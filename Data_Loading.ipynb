{
  "nbformat": 4,
  "nbformat_minor": 0,
  "metadata": {
    "colab": {
      "provenance": [],
      "toc_visible": true
    },
    "kernelspec": {
      "name": "python3",
      "display_name": "Python 3"
    },
    "language_info": {
      "name": "python"
    }
  },
  "cells": [
    {
      "cell_type": "markdown",
      "source": [
        "# Load libraries "
      ],
      "metadata": {
        "id": "db-HhqCqeEBK"
      }
    },
    {
      "cell_type": "code",
      "source": [
        "import pandas as pd\n",
        "import numpy as np\n",
        "from sklearn.model_selection import StratifiedShuffleSplit"
      ],
      "metadata": {
        "id": "lmVHyQkmeCFL"
      },
      "execution_count": null,
      "outputs": []
    },
    {
      "cell_type": "markdown",
      "source": [
        "# Load Dataset"
      ],
      "metadata": {
        "id": "qAh6fV9xeyNt"
      }
    },
    {
      "cell_type": "markdown",
      "source": [
        "Download dataset from git repository"
      ],
      "metadata": {
        "id": "4LWN7gfSdF3D"
      }
    },
    {
      "cell_type": "code",
      "source": [
        "! wget https://github.com/CapitalOneRecruiting/DS/raw/master/transactions.zip"
      ],
      "metadata": {
        "colab": {
          "base_uri": "https://localhost:8080/"
        },
        "id": "lPpZo_rhdRfz",
        "outputId": "f0f4609f-6e2f-4470-e4d5-cd85dfd41757"
      },
      "execution_count": null,
      "outputs": [
        {
          "output_type": "stream",
          "name": "stdout",
          "text": [
            "--2022-07-25 03:44:53--  https://github.com/CapitalOneRecruiting/DS/raw/master/transactions.zip\n",
            "Resolving github.com (github.com)... 140.82.114.4\n",
            "Connecting to github.com (github.com)|140.82.114.4|:443... connected.\n",
            "HTTP request sent, awaiting response... 302 Found\n",
            "Location: https://raw.githubusercontent.com/CapitalOneRecruiting/DS/master/transactions.zip [following]\n",
            "--2022-07-25 03:44:53--  https://raw.githubusercontent.com/CapitalOneRecruiting/DS/master/transactions.zip\n",
            "Resolving raw.githubusercontent.com (raw.githubusercontent.com)... 185.199.109.133, 185.199.108.133, 185.199.110.133, ...\n",
            "Connecting to raw.githubusercontent.com (raw.githubusercontent.com)|185.199.109.133|:443... connected.\n",
            "HTTP request sent, awaiting response... 200 OK\n",
            "Length: 30522086 (29M) [application/zip]\n",
            "Saving to: ‘transactions.zip’\n",
            "\n",
            "transactions.zip    100%[===================>]  29.11M   152MB/s    in 0.2s    \n",
            "\n",
            "2022-07-25 03:44:54 (152 MB/s) - ‘transactions.zip’ saved [30522086/30522086]\n",
            "\n"
          ]
        }
      ]
    },
    {
      "cell_type": "markdown",
      "source": [
        "Unzip the downloaded repository"
      ],
      "metadata": {
        "id": "8voSGDN0d6_y"
      }
    },
    {
      "cell_type": "code",
      "source": [
        "!unzip transactions.zip"
      ],
      "metadata": {
        "colab": {
          "base_uri": "https://localhost:8080/"
        },
        "id": "3Izs7zdZd3hc",
        "outputId": "bf53c9da-4948-4acc-b885-83884267d471"
      },
      "execution_count": null,
      "outputs": [
        {
          "output_type": "stream",
          "name": "stdout",
          "text": [
            "Archive:  transactions.zip\n",
            "  inflating: transactions.txt        \n"
          ]
        }
      ]
    },
    {
      "cell_type": "markdown",
      "source": [
        "Read data in json file "
      ],
      "metadata": {
        "id": "uJQ0CMAEeKK5"
      }
    },
    {
      "cell_type": "code",
      "source": [
        "txn_df = pd.read_json(\"transactions.txt\",lines = True)\n",
        "txn_df.replace(\"\",np.nan,inplace = True) #While reading the dataset som columns had blank values (\"\"). So, replace the blank strings with np.nan"
      ],
      "metadata": {
        "id": "Idx0kyzWd972"
      },
      "execution_count": null,
      "outputs": []
    },
    {
      "cell_type": "markdown",
      "source": [
        "# Explore Dataset"
      ],
      "metadata": {
        "id": "CC6wiw8fe1ZC"
      }
    },
    {
      "cell_type": "code",
      "source": [
        "pd.set_option('display.max_columns',None)\n",
        "txn_df.head()"
      ],
      "metadata": {
        "colab": {
          "base_uri": "https://localhost:8080/",
          "height": 287
        },
        "id": "xczOSBAEeVoy",
        "outputId": "fcc2e4bd-30bc-4ba0-8731-32fc89b30af1"
      },
      "execution_count": null,
      "outputs": [
        {
          "output_type": "execute_result",
          "data": {
            "text/plain": [
              "   accountNumber  customerId  creditLimit  availableMoney  \\\n",
              "0      737265056   737265056         5000          5000.0   \n",
              "1      737265056   737265056         5000          5000.0   \n",
              "2      737265056   737265056         5000          5000.0   \n",
              "3      737265056   737265056         5000          5000.0   \n",
              "4      830329091   830329091         5000          5000.0   \n",
              "\n",
              "   transactionDateTime  transactionAmount         merchantName acqCountry  \\\n",
              "0  2016-08-13T14:27:32              98.55                 Uber         US   \n",
              "1  2016-10-11T05:05:54              74.51          AMC #191138         US   \n",
              "2  2016-11-08T09:18:39               7.47           Play Store         US   \n",
              "3  2016-12-10T02:14:50               7.47           Play Store         US   \n",
              "4  2016-03-24T21:04:46              71.18  Tim Hortons #947751         US   \n",
              "\n",
              "  merchantCountryCode posEntryMode posConditionCode merchantCategoryCode  \\\n",
              "0                  US           02               01            rideshare   \n",
              "1                  US           09               01        entertainment   \n",
              "2                  US           09               01           mobileapps   \n",
              "3                  US           09               01           mobileapps   \n",
              "4                  US           02               01             fastfood   \n",
              "\n",
              "  currentExpDate accountOpenDate dateOfLastAddressChange  cardCVV  enteredCVV  \\\n",
              "0        06/2023      2015-03-14              2015-03-14      414         414   \n",
              "1        02/2024      2015-03-14              2015-03-14      486         486   \n",
              "2        08/2025      2015-03-14              2015-03-14      486         486   \n",
              "3        08/2025      2015-03-14              2015-03-14      486         486   \n",
              "4        10/2029      2015-08-06              2015-08-06      885         885   \n",
              "\n",
              "   cardLast4Digits transactionType  echoBuffer  currentBalance  merchantCity  \\\n",
              "0             1803        PURCHASE         NaN             0.0           NaN   \n",
              "1              767        PURCHASE         NaN             0.0           NaN   \n",
              "2              767        PURCHASE         NaN             0.0           NaN   \n",
              "3              767        PURCHASE         NaN             0.0           NaN   \n",
              "4             3143        PURCHASE         NaN             0.0           NaN   \n",
              "\n",
              "   merchantState  merchantZip  cardPresent  posOnPremises  recurringAuthInd  \\\n",
              "0            NaN          NaN        False            NaN               NaN   \n",
              "1            NaN          NaN         True            NaN               NaN   \n",
              "2            NaN          NaN        False            NaN               NaN   \n",
              "3            NaN          NaN        False            NaN               NaN   \n",
              "4            NaN          NaN         True            NaN               NaN   \n",
              "\n",
              "   expirationDateKeyInMatch  isFraud  \n",
              "0                     False    False  \n",
              "1                     False    False  \n",
              "2                     False    False  \n",
              "3                     False    False  \n",
              "4                     False    False  "
            ],
            "text/html": [
              "\n",
              "  <div id=\"df-4d282623-41f2-4083-97d4-cd593d4a87a1\">\n",
              "    <div class=\"colab-df-container\">\n",
              "      <div>\n",
              "<style scoped>\n",
              "    .dataframe tbody tr th:only-of-type {\n",
              "        vertical-align: middle;\n",
              "    }\n",
              "\n",
              "    .dataframe tbody tr th {\n",
              "        vertical-align: top;\n",
              "    }\n",
              "\n",
              "    .dataframe thead th {\n",
              "        text-align: right;\n",
              "    }\n",
              "</style>\n",
              "<table border=\"1\" class=\"dataframe\">\n",
              "  <thead>\n",
              "    <tr style=\"text-align: right;\">\n",
              "      <th></th>\n",
              "      <th>accountNumber</th>\n",
              "      <th>customerId</th>\n",
              "      <th>creditLimit</th>\n",
              "      <th>availableMoney</th>\n",
              "      <th>transactionDateTime</th>\n",
              "      <th>transactionAmount</th>\n",
              "      <th>merchantName</th>\n",
              "      <th>acqCountry</th>\n",
              "      <th>merchantCountryCode</th>\n",
              "      <th>posEntryMode</th>\n",
              "      <th>posConditionCode</th>\n",
              "      <th>merchantCategoryCode</th>\n",
              "      <th>currentExpDate</th>\n",
              "      <th>accountOpenDate</th>\n",
              "      <th>dateOfLastAddressChange</th>\n",
              "      <th>cardCVV</th>\n",
              "      <th>enteredCVV</th>\n",
              "      <th>cardLast4Digits</th>\n",
              "      <th>transactionType</th>\n",
              "      <th>echoBuffer</th>\n",
              "      <th>currentBalance</th>\n",
              "      <th>merchantCity</th>\n",
              "      <th>merchantState</th>\n",
              "      <th>merchantZip</th>\n",
              "      <th>cardPresent</th>\n",
              "      <th>posOnPremises</th>\n",
              "      <th>recurringAuthInd</th>\n",
              "      <th>expirationDateKeyInMatch</th>\n",
              "      <th>isFraud</th>\n",
              "    </tr>\n",
              "  </thead>\n",
              "  <tbody>\n",
              "    <tr>\n",
              "      <th>0</th>\n",
              "      <td>737265056</td>\n",
              "      <td>737265056</td>\n",
              "      <td>5000</td>\n",
              "      <td>5000.0</td>\n",
              "      <td>2016-08-13T14:27:32</td>\n",
              "      <td>98.55</td>\n",
              "      <td>Uber</td>\n",
              "      <td>US</td>\n",
              "      <td>US</td>\n",
              "      <td>02</td>\n",
              "      <td>01</td>\n",
              "      <td>rideshare</td>\n",
              "      <td>06/2023</td>\n",
              "      <td>2015-03-14</td>\n",
              "      <td>2015-03-14</td>\n",
              "      <td>414</td>\n",
              "      <td>414</td>\n",
              "      <td>1803</td>\n",
              "      <td>PURCHASE</td>\n",
              "      <td>NaN</td>\n",
              "      <td>0.0</td>\n",
              "      <td>NaN</td>\n",
              "      <td>NaN</td>\n",
              "      <td>NaN</td>\n",
              "      <td>False</td>\n",
              "      <td>NaN</td>\n",
              "      <td>NaN</td>\n",
              "      <td>False</td>\n",
              "      <td>False</td>\n",
              "    </tr>\n",
              "    <tr>\n",
              "      <th>1</th>\n",
              "      <td>737265056</td>\n",
              "      <td>737265056</td>\n",
              "      <td>5000</td>\n",
              "      <td>5000.0</td>\n",
              "      <td>2016-10-11T05:05:54</td>\n",
              "      <td>74.51</td>\n",
              "      <td>AMC #191138</td>\n",
              "      <td>US</td>\n",
              "      <td>US</td>\n",
              "      <td>09</td>\n",
              "      <td>01</td>\n",
              "      <td>entertainment</td>\n",
              "      <td>02/2024</td>\n",
              "      <td>2015-03-14</td>\n",
              "      <td>2015-03-14</td>\n",
              "      <td>486</td>\n",
              "      <td>486</td>\n",
              "      <td>767</td>\n",
              "      <td>PURCHASE</td>\n",
              "      <td>NaN</td>\n",
              "      <td>0.0</td>\n",
              "      <td>NaN</td>\n",
              "      <td>NaN</td>\n",
              "      <td>NaN</td>\n",
              "      <td>True</td>\n",
              "      <td>NaN</td>\n",
              "      <td>NaN</td>\n",
              "      <td>False</td>\n",
              "      <td>False</td>\n",
              "    </tr>\n",
              "    <tr>\n",
              "      <th>2</th>\n",
              "      <td>737265056</td>\n",
              "      <td>737265056</td>\n",
              "      <td>5000</td>\n",
              "      <td>5000.0</td>\n",
              "      <td>2016-11-08T09:18:39</td>\n",
              "      <td>7.47</td>\n",
              "      <td>Play Store</td>\n",
              "      <td>US</td>\n",
              "      <td>US</td>\n",
              "      <td>09</td>\n",
              "      <td>01</td>\n",
              "      <td>mobileapps</td>\n",
              "      <td>08/2025</td>\n",
              "      <td>2015-03-14</td>\n",
              "      <td>2015-03-14</td>\n",
              "      <td>486</td>\n",
              "      <td>486</td>\n",
              "      <td>767</td>\n",
              "      <td>PURCHASE</td>\n",
              "      <td>NaN</td>\n",
              "      <td>0.0</td>\n",
              "      <td>NaN</td>\n",
              "      <td>NaN</td>\n",
              "      <td>NaN</td>\n",
              "      <td>False</td>\n",
              "      <td>NaN</td>\n",
              "      <td>NaN</td>\n",
              "      <td>False</td>\n",
              "      <td>False</td>\n",
              "    </tr>\n",
              "    <tr>\n",
              "      <th>3</th>\n",
              "      <td>737265056</td>\n",
              "      <td>737265056</td>\n",
              "      <td>5000</td>\n",
              "      <td>5000.0</td>\n",
              "      <td>2016-12-10T02:14:50</td>\n",
              "      <td>7.47</td>\n",
              "      <td>Play Store</td>\n",
              "      <td>US</td>\n",
              "      <td>US</td>\n",
              "      <td>09</td>\n",
              "      <td>01</td>\n",
              "      <td>mobileapps</td>\n",
              "      <td>08/2025</td>\n",
              "      <td>2015-03-14</td>\n",
              "      <td>2015-03-14</td>\n",
              "      <td>486</td>\n",
              "      <td>486</td>\n",
              "      <td>767</td>\n",
              "      <td>PURCHASE</td>\n",
              "      <td>NaN</td>\n",
              "      <td>0.0</td>\n",
              "      <td>NaN</td>\n",
              "      <td>NaN</td>\n",
              "      <td>NaN</td>\n",
              "      <td>False</td>\n",
              "      <td>NaN</td>\n",
              "      <td>NaN</td>\n",
              "      <td>False</td>\n",
              "      <td>False</td>\n",
              "    </tr>\n",
              "    <tr>\n",
              "      <th>4</th>\n",
              "      <td>830329091</td>\n",
              "      <td>830329091</td>\n",
              "      <td>5000</td>\n",
              "      <td>5000.0</td>\n",
              "      <td>2016-03-24T21:04:46</td>\n",
              "      <td>71.18</td>\n",
              "      <td>Tim Hortons #947751</td>\n",
              "      <td>US</td>\n",
              "      <td>US</td>\n",
              "      <td>02</td>\n",
              "      <td>01</td>\n",
              "      <td>fastfood</td>\n",
              "      <td>10/2029</td>\n",
              "      <td>2015-08-06</td>\n",
              "      <td>2015-08-06</td>\n",
              "      <td>885</td>\n",
              "      <td>885</td>\n",
              "      <td>3143</td>\n",
              "      <td>PURCHASE</td>\n",
              "      <td>NaN</td>\n",
              "      <td>0.0</td>\n",
              "      <td>NaN</td>\n",
              "      <td>NaN</td>\n",
              "      <td>NaN</td>\n",
              "      <td>True</td>\n",
              "      <td>NaN</td>\n",
              "      <td>NaN</td>\n",
              "      <td>False</td>\n",
              "      <td>False</td>\n",
              "    </tr>\n",
              "  </tbody>\n",
              "</table>\n",
              "</div>\n",
              "      <button class=\"colab-df-convert\" onclick=\"convertToInteractive('df-4d282623-41f2-4083-97d4-cd593d4a87a1')\"\n",
              "              title=\"Convert this dataframe to an interactive table.\"\n",
              "              style=\"display:none;\">\n",
              "        \n",
              "  <svg xmlns=\"http://www.w3.org/2000/svg\" height=\"24px\"viewBox=\"0 0 24 24\"\n",
              "       width=\"24px\">\n",
              "    <path d=\"M0 0h24v24H0V0z\" fill=\"none\"/>\n",
              "    <path d=\"M18.56 5.44l.94 2.06.94-2.06 2.06-.94-2.06-.94-.94-2.06-.94 2.06-2.06.94zm-11 1L8.5 8.5l.94-2.06 2.06-.94-2.06-.94L8.5 2.5l-.94 2.06-2.06.94zm10 10l.94 2.06.94-2.06 2.06-.94-2.06-.94-.94-2.06-.94 2.06-2.06.94z\"/><path d=\"M17.41 7.96l-1.37-1.37c-.4-.4-.92-.59-1.43-.59-.52 0-1.04.2-1.43.59L10.3 9.45l-7.72 7.72c-.78.78-.78 2.05 0 2.83L4 21.41c.39.39.9.59 1.41.59.51 0 1.02-.2 1.41-.59l7.78-7.78 2.81-2.81c.8-.78.8-2.07 0-2.86zM5.41 20L4 18.59l7.72-7.72 1.47 1.35L5.41 20z\"/>\n",
              "  </svg>\n",
              "      </button>\n",
              "      \n",
              "  <style>\n",
              "    .colab-df-container {\n",
              "      display:flex;\n",
              "      flex-wrap:wrap;\n",
              "      gap: 12px;\n",
              "    }\n",
              "\n",
              "    .colab-df-convert {\n",
              "      background-color: #E8F0FE;\n",
              "      border: none;\n",
              "      border-radius: 50%;\n",
              "      cursor: pointer;\n",
              "      display: none;\n",
              "      fill: #1967D2;\n",
              "      height: 32px;\n",
              "      padding: 0 0 0 0;\n",
              "      width: 32px;\n",
              "    }\n",
              "\n",
              "    .colab-df-convert:hover {\n",
              "      background-color: #E2EBFA;\n",
              "      box-shadow: 0px 1px 2px rgba(60, 64, 67, 0.3), 0px 1px 3px 1px rgba(60, 64, 67, 0.15);\n",
              "      fill: #174EA6;\n",
              "    }\n",
              "\n",
              "    [theme=dark] .colab-df-convert {\n",
              "      background-color: #3B4455;\n",
              "      fill: #D2E3FC;\n",
              "    }\n",
              "\n",
              "    [theme=dark] .colab-df-convert:hover {\n",
              "      background-color: #434B5C;\n",
              "      box-shadow: 0px 1px 3px 1px rgba(0, 0, 0, 0.15);\n",
              "      filter: drop-shadow(0px 1px 2px rgba(0, 0, 0, 0.3));\n",
              "      fill: #FFFFFF;\n",
              "    }\n",
              "  </style>\n",
              "\n",
              "      <script>\n",
              "        const buttonEl =\n",
              "          document.querySelector('#df-4d282623-41f2-4083-97d4-cd593d4a87a1 button.colab-df-convert');\n",
              "        buttonEl.style.display =\n",
              "          google.colab.kernel.accessAllowed ? 'block' : 'none';\n",
              "\n",
              "        async function convertToInteractive(key) {\n",
              "          const element = document.querySelector('#df-4d282623-41f2-4083-97d4-cd593d4a87a1');\n",
              "          const dataTable =\n",
              "            await google.colab.kernel.invokeFunction('convertToInteractive',\n",
              "                                                     [key], {});\n",
              "          if (!dataTable) return;\n",
              "\n",
              "          const docLinkHtml = 'Like what you see? Visit the ' +\n",
              "            '<a target=\"_blank\" href=https://colab.research.google.com/notebooks/data_table.ipynb>data table notebook</a>'\n",
              "            + ' to learn more about interactive tables.';\n",
              "          element.innerHTML = '';\n",
              "          dataTable['output_type'] = 'display_data';\n",
              "          await google.colab.output.renderOutput(dataTable, element);\n",
              "          const docLink = document.createElement('div');\n",
              "          docLink.innerHTML = docLinkHtml;\n",
              "          element.appendChild(docLink);\n",
              "        }\n",
              "      </script>\n",
              "    </div>\n",
              "  </div>\n",
              "  "
            ]
          },
          "metadata": {},
          "execution_count": 6
        }
      ]
    },
    {
      "cell_type": "markdown",
      "source": [
        "Dataset have 786,363 rows and 29 features"
      ],
      "metadata": {
        "id": "sskbZHTPfBRu"
      }
    },
    {
      "cell_type": "code",
      "source": [
        "txn_df.shape"
      ],
      "metadata": {
        "colab": {
          "base_uri": "https://localhost:8080/"
        },
        "id": "-ZKGMZgdfCOz",
        "outputId": "12a2cb06-a523-472f-8eca-771ad3fd140c"
      },
      "execution_count": null,
      "outputs": [
        {
          "output_type": "execute_result",
          "data": {
            "text/plain": [
              "(786363, 29)"
            ]
          },
          "metadata": {},
          "execution_count": 7
        }
      ]
    },
    {
      "cell_type": "code",
      "source": [
        "#Column names\n",
        "txn_df.columns"
      ],
      "metadata": {
        "colab": {
          "base_uri": "https://localhost:8080/"
        },
        "id": "Djs1pggMfsIx",
        "outputId": "92e1b7cc-01ec-430c-ede7-321e04749475"
      },
      "execution_count": null,
      "outputs": [
        {
          "output_type": "execute_result",
          "data": {
            "text/plain": [
              "Index(['accountNumber', 'customerId', 'creditLimit', 'availableMoney',\n",
              "       'transactionDateTime', 'transactionAmount', 'merchantName',\n",
              "       'acqCountry', 'merchantCountryCode', 'posEntryMode', 'posConditionCode',\n",
              "       'merchantCategoryCode', 'currentExpDate', 'accountOpenDate',\n",
              "       'dateOfLastAddressChange', 'cardCVV', 'enteredCVV', 'cardLast4Digits',\n",
              "       'transactionType', 'echoBuffer', 'currentBalance', 'merchantCity',\n",
              "       'merchantState', 'merchantZip', 'cardPresent', 'posOnPremises',\n",
              "       'recurringAuthInd', 'expirationDateKeyInMatch', 'isFraud'],\n",
              "      dtype='object')"
            ]
          },
          "metadata": {},
          "execution_count": 9
        }
      ]
    },
    {
      "cell_type": "code",
      "source": [
        "txn_df.info()"
      ],
      "metadata": {
        "colab": {
          "base_uri": "https://localhost:8080/"
        },
        "id": "-rU9YyFUsRfy",
        "outputId": "ecf298f7-b37e-40e0-80ca-9c17d35dd3dc"
      },
      "execution_count": null,
      "outputs": [
        {
          "output_type": "stream",
          "name": "stdout",
          "text": [
            "<class 'pandas.core.frame.DataFrame'>\n",
            "RangeIndex: 786363 entries, 0 to 786362\n",
            "Data columns (total 23 columns):\n",
            " #   Column                    Non-Null Count   Dtype         \n",
            "---  ------                    --------------   -----         \n",
            " 0   accountNumber             786363 non-null  object        \n",
            " 1   customerId                786363 non-null  object        \n",
            " 2   creditLimit               786363 non-null  int64         \n",
            " 3   availableMoney            786363 non-null  float64       \n",
            " 4   transactionDateTime       786363 non-null  datetime64[ns]\n",
            " 5   transactionAmount         786363 non-null  float64       \n",
            " 6   merchantName              786363 non-null  object        \n",
            " 7   acqCountry                781801 non-null  object        \n",
            " 8   merchantCountryCode       785639 non-null  object        \n",
            " 9   posEntryMode              782309 non-null  object        \n",
            " 10  posConditionCode          785954 non-null  object        \n",
            " 11  merchantCategoryCode      786363 non-null  object        \n",
            " 12  currentExpDate            786363 non-null  datetime64[ns]\n",
            " 13  accountOpenDate           786363 non-null  datetime64[ns]\n",
            " 14  dateOfLastAddressChange   786363 non-null  datetime64[ns]\n",
            " 15  cardCVV                   786363 non-null  object        \n",
            " 16  enteredCVV                786363 non-null  object        \n",
            " 17  cardLast4Digits           786363 non-null  object        \n",
            " 18  transactionType           785665 non-null  object        \n",
            " 19  currentBalance            786363 non-null  float64       \n",
            " 20  cardPresent               786363 non-null  bool          \n",
            " 21  expirationDateKeyInMatch  786363 non-null  bool          \n",
            " 22  isFraud                   786363 non-null  bool          \n",
            "dtypes: bool(3), datetime64[ns](4), float64(3), int64(1), object(12)\n",
            "memory usage: 122.2+ MB\n"
          ]
        }
      ]
    },
    {
      "cell_type": "markdown",
      "source": [
        "Check datatype and percentage of missing value in each column"
      ],
      "metadata": {
        "id": "SVnT3dy8f0a4"
      }
    },
    {
      "cell_type": "code",
      "source": [
        "def sniff(df):\n",
        "  \"\"\"\n",
        "  Function identifies the datatype and also calculates the percentage of missing values of all columns of input dataframe \n",
        "\n",
        "  Parameter and type: \n",
        "    df(Pandas Dataframe): Dataframe\n",
        "\n",
        "  Return:\n",
        "    :rtype: Dataframe \n",
        "    :return: Dataframe with column names, their datatypes and percentage of missing values, sorted by data types \n",
        "\n",
        "  \"\"\"\n",
        "  with pd.option_context(\"display.max_colwidth\", 20):\n",
        "    info = pd.DataFrame()\n",
        "    info['sample'] = df.iloc[0]\n",
        "    info['data type'] = df.dtypes\n",
        "    info['percent missing'] = df.isnull().sum()*100/len(df)\n",
        "    return info.sort_values('data type')"
      ],
      "metadata": {
        "id": "d0sjjzkMfxiy"
      },
      "execution_count": null,
      "outputs": []
    },
    {
      "cell_type": "code",
      "source": [
        "# Check datatypes and percentage of missing values for all columns of transaction data\n",
        "sniff(txn_df)"
      ],
      "metadata": {
        "colab": {
          "base_uri": "https://localhost:8080/",
          "height": 959
        },
        "id": "g0lRWZ2QjpuZ",
        "outputId": "515b393c-05ff-4c96-d808-4d388d91f387"
      },
      "execution_count": null,
      "outputs": [
        {
          "output_type": "execute_result",
          "data": {
            "text/plain": [
              "                                       sample data type  percent missing\n",
              "isFraud                                 False      bool         0.000000\n",
              "cardPresent                             False      bool         0.000000\n",
              "expirationDateKeyInMatch                False      bool         0.000000\n",
              "cardLast4Digits                          1803     int64         0.000000\n",
              "enteredCVV                                414     int64         0.000000\n",
              "cardCVV                                   414     int64         0.000000\n",
              "accountNumber                       737265056     int64         0.000000\n",
              "creditLimit                              5000     int64         0.000000\n",
              "customerId                          737265056     int64         0.000000\n",
              "recurringAuthInd                          NaN   float64       100.000000\n",
              "posOnPremises                             NaN   float64       100.000000\n",
              "merchantZip                               NaN   float64       100.000000\n",
              "merchantState                             NaN   float64       100.000000\n",
              "merchantCity                              NaN   float64       100.000000\n",
              "transactionAmount                       98.55   float64         0.000000\n",
              "currentBalance                            0.0   float64         0.000000\n",
              "availableMoney                         5000.0   float64         0.000000\n",
              "echoBuffer                                NaN   float64       100.000000\n",
              "acqCountry                                 US    object         0.580139\n",
              "merchantName                             Uber    object         0.000000\n",
              "transactionDateTime       2016-08-13T14:27:32    object         0.000000\n",
              "accountOpenDate                    2015-03-14    object         0.000000\n",
              "currentExpDate                        06/2023    object         0.000000\n",
              "merchantCategoryCode                rideshare    object         0.000000\n",
              "posConditionCode                           01    object         0.052012\n",
              "posEntryMode                               02    object         0.515538\n",
              "merchantCountryCode                        US    object         0.092069\n",
              "transactionType                      PURCHASE    object         0.088763\n",
              "dateOfLastAddressChange            2015-03-14    object         0.000000"
            ],
            "text/html": [
              "\n",
              "  <div id=\"df-613398c1-1c43-44fd-a776-1b455cbf0fd2\">\n",
              "    <div class=\"colab-df-container\">\n",
              "      <div>\n",
              "<style scoped>\n",
              "    .dataframe tbody tr th:only-of-type {\n",
              "        vertical-align: middle;\n",
              "    }\n",
              "\n",
              "    .dataframe tbody tr th {\n",
              "        vertical-align: top;\n",
              "    }\n",
              "\n",
              "    .dataframe thead th {\n",
              "        text-align: right;\n",
              "    }\n",
              "</style>\n",
              "<table border=\"1\" class=\"dataframe\">\n",
              "  <thead>\n",
              "    <tr style=\"text-align: right;\">\n",
              "      <th></th>\n",
              "      <th>sample</th>\n",
              "      <th>data type</th>\n",
              "      <th>percent missing</th>\n",
              "    </tr>\n",
              "  </thead>\n",
              "  <tbody>\n",
              "    <tr>\n",
              "      <th>isFraud</th>\n",
              "      <td>False</td>\n",
              "      <td>bool</td>\n",
              "      <td>0.000000</td>\n",
              "    </tr>\n",
              "    <tr>\n",
              "      <th>cardPresent</th>\n",
              "      <td>False</td>\n",
              "      <td>bool</td>\n",
              "      <td>0.000000</td>\n",
              "    </tr>\n",
              "    <tr>\n",
              "      <th>expirationDateKeyInMatch</th>\n",
              "      <td>False</td>\n",
              "      <td>bool</td>\n",
              "      <td>0.000000</td>\n",
              "    </tr>\n",
              "    <tr>\n",
              "      <th>cardLast4Digits</th>\n",
              "      <td>1803</td>\n",
              "      <td>int64</td>\n",
              "      <td>0.000000</td>\n",
              "    </tr>\n",
              "    <tr>\n",
              "      <th>enteredCVV</th>\n",
              "      <td>414</td>\n",
              "      <td>int64</td>\n",
              "      <td>0.000000</td>\n",
              "    </tr>\n",
              "    <tr>\n",
              "      <th>cardCVV</th>\n",
              "      <td>414</td>\n",
              "      <td>int64</td>\n",
              "      <td>0.000000</td>\n",
              "    </tr>\n",
              "    <tr>\n",
              "      <th>accountNumber</th>\n",
              "      <td>737265056</td>\n",
              "      <td>int64</td>\n",
              "      <td>0.000000</td>\n",
              "    </tr>\n",
              "    <tr>\n",
              "      <th>creditLimit</th>\n",
              "      <td>5000</td>\n",
              "      <td>int64</td>\n",
              "      <td>0.000000</td>\n",
              "    </tr>\n",
              "    <tr>\n",
              "      <th>customerId</th>\n",
              "      <td>737265056</td>\n",
              "      <td>int64</td>\n",
              "      <td>0.000000</td>\n",
              "    </tr>\n",
              "    <tr>\n",
              "      <th>recurringAuthInd</th>\n",
              "      <td>NaN</td>\n",
              "      <td>float64</td>\n",
              "      <td>100.000000</td>\n",
              "    </tr>\n",
              "    <tr>\n",
              "      <th>posOnPremises</th>\n",
              "      <td>NaN</td>\n",
              "      <td>float64</td>\n",
              "      <td>100.000000</td>\n",
              "    </tr>\n",
              "    <tr>\n",
              "      <th>merchantZip</th>\n",
              "      <td>NaN</td>\n",
              "      <td>float64</td>\n",
              "      <td>100.000000</td>\n",
              "    </tr>\n",
              "    <tr>\n",
              "      <th>merchantState</th>\n",
              "      <td>NaN</td>\n",
              "      <td>float64</td>\n",
              "      <td>100.000000</td>\n",
              "    </tr>\n",
              "    <tr>\n",
              "      <th>merchantCity</th>\n",
              "      <td>NaN</td>\n",
              "      <td>float64</td>\n",
              "      <td>100.000000</td>\n",
              "    </tr>\n",
              "    <tr>\n",
              "      <th>transactionAmount</th>\n",
              "      <td>98.55</td>\n",
              "      <td>float64</td>\n",
              "      <td>0.000000</td>\n",
              "    </tr>\n",
              "    <tr>\n",
              "      <th>currentBalance</th>\n",
              "      <td>0.0</td>\n",
              "      <td>float64</td>\n",
              "      <td>0.000000</td>\n",
              "    </tr>\n",
              "    <tr>\n",
              "      <th>availableMoney</th>\n",
              "      <td>5000.0</td>\n",
              "      <td>float64</td>\n",
              "      <td>0.000000</td>\n",
              "    </tr>\n",
              "    <tr>\n",
              "      <th>echoBuffer</th>\n",
              "      <td>NaN</td>\n",
              "      <td>float64</td>\n",
              "      <td>100.000000</td>\n",
              "    </tr>\n",
              "    <tr>\n",
              "      <th>acqCountry</th>\n",
              "      <td>US</td>\n",
              "      <td>object</td>\n",
              "      <td>0.580139</td>\n",
              "    </tr>\n",
              "    <tr>\n",
              "      <th>merchantName</th>\n",
              "      <td>Uber</td>\n",
              "      <td>object</td>\n",
              "      <td>0.000000</td>\n",
              "    </tr>\n",
              "    <tr>\n",
              "      <th>transactionDateTime</th>\n",
              "      <td>2016-08-13T14:27:32</td>\n",
              "      <td>object</td>\n",
              "      <td>0.000000</td>\n",
              "    </tr>\n",
              "    <tr>\n",
              "      <th>accountOpenDate</th>\n",
              "      <td>2015-03-14</td>\n",
              "      <td>object</td>\n",
              "      <td>0.000000</td>\n",
              "    </tr>\n",
              "    <tr>\n",
              "      <th>currentExpDate</th>\n",
              "      <td>06/2023</td>\n",
              "      <td>object</td>\n",
              "      <td>0.000000</td>\n",
              "    </tr>\n",
              "    <tr>\n",
              "      <th>merchantCategoryCode</th>\n",
              "      <td>rideshare</td>\n",
              "      <td>object</td>\n",
              "      <td>0.000000</td>\n",
              "    </tr>\n",
              "    <tr>\n",
              "      <th>posConditionCode</th>\n",
              "      <td>01</td>\n",
              "      <td>object</td>\n",
              "      <td>0.052012</td>\n",
              "    </tr>\n",
              "    <tr>\n",
              "      <th>posEntryMode</th>\n",
              "      <td>02</td>\n",
              "      <td>object</td>\n",
              "      <td>0.515538</td>\n",
              "    </tr>\n",
              "    <tr>\n",
              "      <th>merchantCountryCode</th>\n",
              "      <td>US</td>\n",
              "      <td>object</td>\n",
              "      <td>0.092069</td>\n",
              "    </tr>\n",
              "    <tr>\n",
              "      <th>transactionType</th>\n",
              "      <td>PURCHASE</td>\n",
              "      <td>object</td>\n",
              "      <td>0.088763</td>\n",
              "    </tr>\n",
              "    <tr>\n",
              "      <th>dateOfLastAddressChange</th>\n",
              "      <td>2015-03-14</td>\n",
              "      <td>object</td>\n",
              "      <td>0.000000</td>\n",
              "    </tr>\n",
              "  </tbody>\n",
              "</table>\n",
              "</div>\n",
              "      <button class=\"colab-df-convert\" onclick=\"convertToInteractive('df-613398c1-1c43-44fd-a776-1b455cbf0fd2')\"\n",
              "              title=\"Convert this dataframe to an interactive table.\"\n",
              "              style=\"display:none;\">\n",
              "        \n",
              "  <svg xmlns=\"http://www.w3.org/2000/svg\" height=\"24px\"viewBox=\"0 0 24 24\"\n",
              "       width=\"24px\">\n",
              "    <path d=\"M0 0h24v24H0V0z\" fill=\"none\"/>\n",
              "    <path d=\"M18.56 5.44l.94 2.06.94-2.06 2.06-.94-2.06-.94-.94-2.06-.94 2.06-2.06.94zm-11 1L8.5 8.5l.94-2.06 2.06-.94-2.06-.94L8.5 2.5l-.94 2.06-2.06.94zm10 10l.94 2.06.94-2.06 2.06-.94-2.06-.94-.94-2.06-.94 2.06-2.06.94z\"/><path d=\"M17.41 7.96l-1.37-1.37c-.4-.4-.92-.59-1.43-.59-.52 0-1.04.2-1.43.59L10.3 9.45l-7.72 7.72c-.78.78-.78 2.05 0 2.83L4 21.41c.39.39.9.59 1.41.59.51 0 1.02-.2 1.41-.59l7.78-7.78 2.81-2.81c.8-.78.8-2.07 0-2.86zM5.41 20L4 18.59l7.72-7.72 1.47 1.35L5.41 20z\"/>\n",
              "  </svg>\n",
              "      </button>\n",
              "      \n",
              "  <style>\n",
              "    .colab-df-container {\n",
              "      display:flex;\n",
              "      flex-wrap:wrap;\n",
              "      gap: 12px;\n",
              "    }\n",
              "\n",
              "    .colab-df-convert {\n",
              "      background-color: #E8F0FE;\n",
              "      border: none;\n",
              "      border-radius: 50%;\n",
              "      cursor: pointer;\n",
              "      display: none;\n",
              "      fill: #1967D2;\n",
              "      height: 32px;\n",
              "      padding: 0 0 0 0;\n",
              "      width: 32px;\n",
              "    }\n",
              "\n",
              "    .colab-df-convert:hover {\n",
              "      background-color: #E2EBFA;\n",
              "      box-shadow: 0px 1px 2px rgba(60, 64, 67, 0.3), 0px 1px 3px 1px rgba(60, 64, 67, 0.15);\n",
              "      fill: #174EA6;\n",
              "    }\n",
              "\n",
              "    [theme=dark] .colab-df-convert {\n",
              "      background-color: #3B4455;\n",
              "      fill: #D2E3FC;\n",
              "    }\n",
              "\n",
              "    [theme=dark] .colab-df-convert:hover {\n",
              "      background-color: #434B5C;\n",
              "      box-shadow: 0px 1px 3px 1px rgba(0, 0, 0, 0.15);\n",
              "      filter: drop-shadow(0px 1px 2px rgba(0, 0, 0, 0.3));\n",
              "      fill: #FFFFFF;\n",
              "    }\n",
              "  </style>\n",
              "\n",
              "      <script>\n",
              "        const buttonEl =\n",
              "          document.querySelector('#df-613398c1-1c43-44fd-a776-1b455cbf0fd2 button.colab-df-convert');\n",
              "        buttonEl.style.display =\n",
              "          google.colab.kernel.accessAllowed ? 'block' : 'none';\n",
              "\n",
              "        async function convertToInteractive(key) {\n",
              "          const element = document.querySelector('#df-613398c1-1c43-44fd-a776-1b455cbf0fd2');\n",
              "          const dataTable =\n",
              "            await google.colab.kernel.invokeFunction('convertToInteractive',\n",
              "                                                     [key], {});\n",
              "          if (!dataTable) return;\n",
              "\n",
              "          const docLinkHtml = 'Like what you see? Visit the ' +\n",
              "            '<a target=\"_blank\" href=https://colab.research.google.com/notebooks/data_table.ipynb>data table notebook</a>'\n",
              "            + ' to learn more about interactive tables.';\n",
              "          element.innerHTML = '';\n",
              "          dataTable['output_type'] = 'display_data';\n",
              "          await google.colab.output.renderOutput(dataTable, element);\n",
              "          const docLink = document.createElement('div');\n",
              "          docLink.innerHTML = docLinkHtml;\n",
              "          element.appendChild(docLink);\n",
              "        }\n",
              "      </script>\n",
              "    </div>\n",
              "  </div>\n",
              "  "
            ]
          },
          "metadata": {},
          "execution_count": 15
        }
      ]
    },
    {
      "cell_type": "markdown",
      "source": [
        "Drop columns with 100% missing value\n"
      ],
      "metadata": {
        "id": "57EZW6AMlTd2"
      }
    },
    {
      "cell_type": "code",
      "source": [
        "col_to_drop = ['recurringAuthInd','posOnPremises','merchantZip','merchantState','merchantCity','echoBuffer']\n",
        "txn_df.drop(col_to_drop,axis = 1,inplace = True)"
      ],
      "metadata": {
        "id": "0RxWOwy3jpxO"
      },
      "execution_count": null,
      "outputs": []
    },
    {
      "cell_type": "markdown",
      "source": [
        "### Change datatype of columns\n",
        "\n",
        "\n"
      ],
      "metadata": {
        "id": "edk8cwwpleYh"
      }
    },
    {
      "cell_type": "code",
      "source": [
        "def change_dtype(df,columns,new_dtype):\n",
        "  \"\"\"\n",
        "  Function convert datatype of specified columns in dataframe to new datatype \n",
        "\n",
        "  Parameter and type: \n",
        "    df(Pandas Dataframe): Dataframe\n",
        "    columns(List): List of columns of dataframe that needs datatype conversion \n",
        "    new_dtype(str): New datatype of column (object, int64, float64, datetime64, bool etc.)\n",
        "\n",
        "  Return:\n",
        "    :rtype: Dataframe \n",
        "    :return: Dataframe with new  \n",
        "  \"\"\"\n",
        "  for col in columns :\n",
        "    df[col] = df[col].astype(new_dtype)\n"
      ],
      "metadata": {
        "id": "qtn4IggomWA-"
      },
      "execution_count": null,
      "outputs": []
    },
    {
      "cell_type": "markdown",
      "source": [
        "Convert numeric datatype to object datatype\n"
      ],
      "metadata": {
        "id": "BvS-XCYOlvzo"
      }
    },
    {
      "cell_type": "code",
      "source": [
        "num_cols = ['cardLast4Digits','enteredCVV','cardCVV','accountNumber','customerId']\n",
        "change_dtype(txn_df, num_cols, 'object')"
      ],
      "metadata": {
        "id": "xLfR29MkowSR"
      },
      "execution_count": null,
      "outputs": []
    },
    {
      "cell_type": "markdown",
      "source": [
        "Convert object datatype to datetime datatype for all date related columns in transaction data"
      ],
      "metadata": {
        "id": "n_Z58DgbowIq"
      }
    },
    {
      "cell_type": "code",
      "source": [
        "object_cols = ['transactionDateTime','accountOpenDate','currentExpDate','dateOfLastAddressChange']\n",
        "change_dtype(txn_df, object_cols, 'datetime64[ns]')"
      ],
      "metadata": {
        "id": "XNYBNyxwowYg"
      },
      "execution_count": null,
      "outputs": []
    },
    {
      "cell_type": "markdown",
      "source": [
        "# Split data into train and test set (80:20)\n"
      ],
      "metadata": {
        "id": "zZ4Knjjtphda"
      }
    },
    {
      "cell_type": "code",
      "source": [
        "#check the target distribution before splitting\n",
        "txn_df.isFraud.value_counts()/len(txn_df)"
      ],
      "metadata": {
        "colab": {
          "base_uri": "https://localhost:8080/"
        },
        "id": "67txDgqvpgyc",
        "outputId": "68108d8a-5ba8-46e6-add5-223413c7a833"
      },
      "execution_count": null,
      "outputs": [
        {
          "output_type": "execute_result",
          "data": {
            "text/plain": [
              "False    0.98421\n",
              "True     0.01579\n",
              "Name: isFraud, dtype: float64"
            ]
          },
          "metadata": {},
          "execution_count": 21
        }
      ]
    },
    {
      "cell_type": "code",
      "source": [
        "#stratified split to keep the distribution of target variable same among the splits (i.e. train and test dataset)\n",
        "split = StratifiedShuffleSplit(n_splits=1, test_size=0.2, random_state=42)\n",
        "for train_index, test_index in split.split(txn_df, txn_df[\"isFraud\"]):\n",
        "    strat_train_set = txn_df.loc[train_index]\n",
        "    strat_test_set = txn_df.loc[test_index]"
      ],
      "metadata": {
        "id": "Fs9nLIRJp6F9"
      },
      "execution_count": null,
      "outputs": []
    },
    {
      "cell_type": "markdown",
      "source": [
        "Save dataframes to pickle file\n"
      ],
      "metadata": {
        "id": "Auta6X9prGcZ"
      }
    },
    {
      "cell_type": "code",
      "source": [
        "# Remove this code \n",
        "import os \n",
        "from google.colab import drive\n",
        "drive.mount('/content/drive')"
      ],
      "metadata": {
        "colab": {
          "base_uri": "https://localhost:8080/"
        },
        "id": "IvKasTKrxpIo",
        "outputId": "c5fc33c6-ebc8-4e5b-d442-b3207a0b8fab"
      },
      "execution_count": null,
      "outputs": [
        {
          "output_type": "stream",
          "name": "stdout",
          "text": [
            "Mounted at /content/drive\n"
          ]
        }
      ]
    },
    {
      "cell_type": "code",
      "source": [
        "pd.to_pickle(txn_df, 'transaction_dataset', protocol=4)\n",
        "pd.to_pickle(strat_train_set, 'train_df', protocol=4)\n",
        "pd.to_pickle(strat_test_set, 'test_df', protocol=4)"
      ],
      "metadata": {
        "id": "qyl_Ck7-rFQ6"
      },
      "execution_count": null,
      "outputs": []
    }
  ]
}